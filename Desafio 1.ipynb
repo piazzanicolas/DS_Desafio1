{
 "cells": [
  {
   "cell_type": "markdown",
   "metadata": {},
   "source": [
    "## IMPORTAR MODULOS, LECTURA DEL ARCHIVO Y TIPO DE COLUMNAS"
   ]
  },
  {
   "cell_type": "code",
   "execution_count": null,
   "metadata": {},
   "outputs": [],
   "source": [
    "import pandas as pd\n",
    "import numpy as np\n",
    "import re\n",
    "import seaborn as sns\n",
    "\n",
    "#LINK DE DESCARGA DEL CSV\n",
    "#https://drive.google.com/file/d/15Ofxvl8CbGrq2BjwmE7GjRCMR_YixKb4/view\n",
    "data_location = \"./properati.csv\"\n",
    "\n",
    "data = pd.read_csv(data_location, sep=\",\")\n",
    "df = pd.read_csv(data_location, sep=\",\")\n",
    "\n",
    "df.drop(['operation', 'Unnamed: 0','geonames_id','lat-lon','lat','lon','properati_url','image_thumbnail', 'price_aprox_local_currency'], axis=1, inplace=True)\n",
    "df.dtypes"
   ]
  },
  {
   "cell_type": "markdown",
   "metadata": {},
   "source": [
    "## Cantidad de nulos iniciales en el dataframe"
   ]
  },
  {
   "cell_type": "code",
   "execution_count": null,
   "metadata": {},
   "outputs": [],
   "source": [
    "df.isnull().sum()"
   ]
  },
  {
   "cell_type": "markdown",
   "metadata": {},
   "source": [
    "## Inicio de Etapa de Busqueda de Datos"
   ]
  },
  {
   "cell_type": "markdown",
   "metadata": {},
   "source": [
    "### Búsqueda de Precios y Monedas en title"
   ]
  },
  {
   "cell_type": "code",
   "execution_count": null,
   "metadata": {},
   "outputs": [],
   "source": [
    "price_pattern = \"(?P<currency>U?\\$[SD]?|pesos|ARS|USD|dolares)\\s*?(?P<price>\\d{1,3}(?:[.,]?\\d*)*(?:[.,]?\\d{2})?)\"\n",
    "price_regex =  re.compile(price_pattern)\n",
    "\n",
    "price_match = df.title.apply(lambda x: x if x is np.NaN else price_regex.search(x))\n",
    "price_match_mask = price_match.notnull()\n",
    "df.loc[price_match_mask, \"PriceTitle\"] = price_match[price_match_mask].apply(lambda x: x.group(\"price\"))\n",
    "df.loc[price_match_mask, \"CurrencyTitle\"] = price_match[price_match_mask].apply(lambda x: x.group(\"currency\"))\n",
    "\n",
    "df[\"PriceTitle\"] = df[\"PriceTitle\"].apply(lambda x: x if (type(x) != str) else x.replace(\".\", \"\"))\n",
    "df[\"PriceTitle\"] = df[\"PriceTitle\"].apply(lambda x: x if (type(x) != str) else x.replace(\",\", \"\"))\n",
    "df[\"PriceTitle\"] = df[\"PriceTitle\"].astype(float)\n"
   ]
  },
  {
   "cell_type": "markdown",
   "metadata": {},
   "source": [
    "### Búsqueda de M2 en description"
   ]
  },
  {
   "cell_type": "code",
   "execution_count": null,
   "metadata": {},
   "outputs": [],
   "source": [
    "m2_pattern = \"\\s(?P<metros>\\d{0,3}?[.]?\\d*)\\s?(?P<sufijo>m2|M2|metros|mts|m²)\"\n",
    "m2_regex =  re.compile(m2_pattern)\n",
    "m2_match = df.description.apply(lambda x: x if x is np.NaN else m2_regex.search(x))\n",
    "m2_match_mask = m2_match.notnull()\n",
    "df.loc[m2_match_mask, \"M2\"] = m2_match[m2_match_mask].apply(lambda x: x.group(\"metros\"))"
   ]
  },
  {
   "cell_type": "markdown",
   "metadata": {},
   "source": [
    "### Búsqueda de ambientes en description"
   ]
  },
  {
   "cell_type": "code",
   "execution_count": null,
   "metadata": {},
   "outputs": [],
   "source": [
    "rooms_pattern = \"\\s(?P<ambientes>\\d\\d?)(\\s?)(?P<sufijo>AMB|amb|Amb)\"\n",
    "rooms_regex =  re.compile(rooms_pattern)\n",
    "\n",
    "rooms_match = df.description.apply(lambda x: x if x is np.NaN else rooms_regex.search(x))\n",
    "rooms_match_mask = rooms_match.notnull()\n",
    "df.loc[rooms_match_mask, \"Ambientes\"] = rooms_match[rooms_match_mask].apply(lambda x: x.group(\"ambientes\"))\n"
   ]
  },
  {
   "cell_type": "markdown",
   "metadata": {},
   "source": [
    "### Búsqueda de cocheras en description"
   ]
  },
  {
   "cell_type": "code",
   "execution_count": null,
   "metadata": {},
   "outputs": [],
   "source": [
    "garage_pattern = \"(?P<garage>cochera|garage|estacionamiento)\"\n",
    "garage_regex =  re.compile(garage_pattern)\n",
    "\n",
    "garage_match = df.description.apply(lambda x: x if x is np.NaN else garage_regex.search(x))\n",
    "garage_match_mask = garage_match.notnull()\n",
    "df.loc[garage_match_mask, \"Garage\"] = True\n",
    "df[\"Garage\"].fillna(False,inplace=True)\n"
   ]
  },
  {
   "cell_type": "markdown",
   "metadata": {},
   "source": [
    "## Inicio de Etapa de Merge de Datos Obtenidos con Datos Iniciales"
   ]
  },
  {
   "cell_type": "markdown",
   "metadata": {},
   "source": [
    "### Sumo los nuevos precios encontrados a la columna original y comparo la cantidad de nulos"
   ]
  },
  {
   "cell_type": "code",
   "execution_count": null,
   "metadata": {},
   "outputs": [],
   "source": [
    "df.loc[(pd.isnull(df[\"price\"])),\"price\"] = df[\"PriceTitle\"]\n",
    "print('Cantidad price null en df inicial:', data[\"price\"].isnull().sum())\n",
    "print('Cantidad price null en df trabajado:',df[\"price\"].isnull().sum())"
   ]
  },
  {
   "cell_type": "code",
   "execution_count": null,
   "metadata": {},
   "outputs": [],
   "source": [
    "df.loc[(pd.isnull(df[\"price_aprox_usd\"])),\"price_aprox_usd\"] = df[\"PriceTitle\"]"
   ]
  },
  {
   "cell_type": "markdown",
   "metadata": {},
   "source": [
    "### Funcion para homogeneizar la columna CurrencyTitle encontradas, para después poder sumarlas a la columna currency Original"
   ]
  },
  {
   "cell_type": "code",
   "execution_count": null,
   "metadata": {},
   "outputs": [],
   "source": [
    "def evaluate_currency(currency):\n",
    "    result = 'NA'\n",
    "    arrayPesos = ['PESOS', '$']\n",
    "    arrayDolar = ['U$S', 'U$D', 'DOLAR', \"$D\", \"USD\", \"$S\", \"U$\"]\n",
    "    if [s for s in arrayDolar if currency == s]:\n",
    "        result = 'USD'\n",
    "    elif [s for s in arrayPesos if currency == s]:\n",
    "        result = 'ARS'\n",
    "    else:\n",
    "        result = np.NaN\n",
    "    return result"
   ]
  },
  {
   "cell_type": "markdown",
   "metadata": {},
   "source": [
    "### Aplico la función evaluate_currency a la columna CurrencyTitle "
   ]
  },
  {
   "cell_type": "code",
   "execution_count": null,
   "metadata": {},
   "outputs": [],
   "source": [
    "df['CurrencyTitle'] = df['CurrencyTitle'].apply(lambda x: evaluate_currency(x))"
   ]
  },
  {
   "cell_type": "markdown",
   "metadata": {},
   "source": [
    "### Sumo las nuevas currency obtenidas a la columna original y comparo la cantidad de nulos"
   ]
  },
  {
   "cell_type": "code",
   "execution_count": null,
   "metadata": {},
   "outputs": [],
   "source": [
    "df.loc[(pd.isnull(df[\"currency\"])),\"currency\"] = df[\"CurrencyTitle\"]\n",
    "print('Cantidad currency null en df inicial:', data[\"currency\"].isnull().sum())\n",
    "print('Cantidad currency null en df trabajado:', df[\"currency\"].isnull().sum())"
   ]
  },
  {
   "cell_type": "markdown",
   "metadata": {},
   "source": [
    "### Completo la columna price_aprox_usd con los nuevos valores encontrados en ARS con su equivalente en USD"
   ]
  },
  {
   "cell_type": "code",
   "execution_count": null,
   "metadata": {},
   "outputs": [],
   "source": [
    "serie_ars = df[df[\"currency\"] == \"ARS\"]\n",
    "mask_nulls_ars = serie_ars[\"PriceTitle\"].notnull()\n",
    "index_ars = serie_ars[mask_nulls_ars].index\n",
    "df.iloc[index_ars, 7]= df[\"price\"].apply(lambda x: round(x/17.83, 2))"
   ]
  },
  {
   "cell_type": "markdown",
   "metadata": {},
   "source": [
    "### Completo los valores nulos de place_name con el valor Tigre, el mismo se obtuvo de place_with_parent_names"
   ]
  },
  {
   "cell_type": "code",
   "execution_count": null,
   "metadata": {},
   "outputs": [],
   "source": [
    "df[\"place_name\"].fillna(value=\"Tigre\", inplace=True)"
   ]
  },
  {
   "cell_type": "markdown",
   "metadata": {},
   "source": [
    "### Convierto la columna Ambientes a Float y completo los null de la columna rooms con los valores encontrados en Ambientes"
   ]
  },
  {
   "cell_type": "code",
   "execution_count": null,
   "metadata": {},
   "outputs": [],
   "source": [
    "df[\"Ambientes\"] = df[\"Ambientes\"].astype(float)\n",
    "df.loc[(pd.isnull(df[\"rooms\"])),\"rooms\"] = df[\"Ambientes\"]\n",
    "print('Cantidad rooms null en df inicial:', data[\"rooms\"].isnull().sum())\n",
    "print('Cantidad rooms null en df trabajado:', df[\"rooms\"].isnull().sum())"
   ]
  },
  {
   "cell_type": "markdown",
   "metadata": {},
   "source": [
    "### Proceso para mergear en una columna los valores de surface_total_in_m2, surface_covered_in_m2 y M2"
   ]
  },
  {
   "cell_type": "code",
   "execution_count": null,
   "metadata": {},
   "outputs": [],
   "source": [
    "df[\"M2\"].replace(to_replace = \"\", value= np.NaN, inplace = True)\n",
    "df[\"M2\"] = df[\"M2\"].astype(float)"
   ]
  },
  {
   "cell_type": "code",
   "execution_count": null,
   "metadata": {},
   "outputs": [],
   "source": [
    "#si solo tengo valor en M2, lo llevo a metros\n",
    "df['metros1'] = df[(df['surface_total_in_m2'].isnull()) & (df['surface_covered_in_m2'].isnull()) & (df['M2'].notnull())][\"M2\"]\n",
    "#si tengo valor en surface_covered_in_m2 lo llevo a metros\n",
    "df['metros2'] = df[(df['surface_total_in_m2'].isnull()) & (df['surface_covered_in_m2'].notnull())]['surface_covered_in_m2']\n",
    "#si tengo valor en surface_total_in_m2 lo llevo a metros\n",
    "df['metros3'] = df[(df['surface_total_in_m2'].notnull()) & (df['surface_covered_in_m2'].isnull())]['surface_total_in_m2']\n",
    "#si tengo covered y total, tomo total\n",
    "df['metros4'] = df[(df['surface_total_in_m2'].notnull()) & (df['surface_covered_in_m2'].notnull())]['surface_total_in_m2'] \n",
    "\n",
    "df[\"metros1\"].fillna(0, inplace=True)\n",
    "df[\"metros2\"].fillna(0, inplace=True)\n",
    "df[\"metros3\"].fillna(0, inplace=True)\n",
    "df[\"metros4\"].fillna(0, inplace=True)\n",
    "\n",
    "df['m2_calculated'] = df.apply(lambda x: x['metros1'] + x['metros2'] + x[\"metros3\"] + x[\"metros4\"], axis=1)\n",
    "\n",
    "df[\"m2_calculated\"].replace(to_replace = 0, value= np.NaN, inplace = True)\n",
    "\n",
    "df.drop([\"metros1\", \"metros2\", \"metros3\", \"metros4\", \"M2\", \"surface_covered_in_m2\", \"surface_total_in_m2\"], axis=1, inplace = True)"
   ]
  },
  {
   "cell_type": "markdown",
   "metadata": {},
   "source": [
    "===================================================================================================================\n",
    "## Análisis\n",
    "==================================================================================================================="
   ]
  },
  {
   "cell_type": "markdown",
   "metadata": {},
   "source": [
    "### Cantidad de unidades agrupadas por state_name y property_type"
   ]
  },
  {
   "cell_type": "code",
   "execution_count": null,
   "metadata": {},
   "outputs": [],
   "source": [
    "pd.pivot_table(df[['property_type','state_name']], index=['state_name'], columns=['property_type'], aggfunc=len, margins=True, margins_name='Total').fillna(0).sort_values(by='Total', ascending=False)"
   ]
  },
  {
   "cell_type": "markdown",
   "metadata": {},
   "source": [
    "### Precio promedio por property_type agrupado por state_name"
   ]
  },
  {
   "cell_type": "code",
   "execution_count": null,
   "metadata": {},
   "outputs": [],
   "source": [
    "round(pd.pivot_table(df[['property_type','state_name', 'price_aprox_usd']], index=['state_name'], columns=['property_type'], aggfunc=[np.mean]).fillna(0).sort_values(by=\"state_name\"))"
   ]
  },
  {
   "cell_type": "markdown",
   "metadata": {},
   "source": [
    "### Top provincias con precios promedios mas altos"
   ]
  },
  {
   "cell_type": "code",
   "execution_count": null,
   "metadata": {},
   "outputs": [],
   "source": [
    "df_notnull_mask = df['price_aprox_usd'].notnull()\n",
    "round(df[df_notnull_mask].groupby(['state_name'], as_index=False)['price_aprox_usd'].agg({'price_aprox_usd': 'mean'})[:10].sort_values(by='price_aprox_usd',ascending=False),2)"
   ]
  },
  {
   "cell_type": "markdown",
   "metadata": {},
   "source": [
    "### Top ciudades con precios promedios mas altos"
   ]
  },
  {
   "cell_type": "code",
   "execution_count": null,
   "metadata": {},
   "outputs": [],
   "source": [
    "df_notnull_mask = df['price_aprox_usd'].notnull()\n",
    "round(df[df_notnull_mask].groupby(['place_name'], as_index=False)['price_aprox_usd'].agg({'price_aprox_usd': 'mean'})[:10].sort_values(by='price_aprox_usd',ascending=False),2)"
   ]
  },
  {
   "cell_type": "markdown",
   "metadata": {},
   "source": [
    "### Cantidad de cada tipo de propiedad distribuida en los barrios mas significativos"
   ]
  },
  {
   "cell_type": "code",
   "execution_count": null,
   "metadata": {},
   "outputs": [],
   "source": [
    "with sns.axes_style('white'):\n",
    "    g = sns.catplot(\"state_name\", data=data, aspect=2.4,hue='property_type', order = [\"Capital Federal\",\"Bs.As. G.B.A. Zona Norte\",\n",
    "                                                                                              \"Bs.As. G.B.A. Zona Sur\",\"Córdoba\", \"Bs.As. G.B.A. Zona Oeste\"], kind=\"count\")\n",
    "    g.set_ylabels('cant')"
   ]
  },
  {
   "cell_type": "markdown",
   "metadata": {},
   "source": [
    "### Cantidad de ambientes de cada tipo de propiedad de los barrios mas significativos"
   ]
  },
  {
   "cell_type": "code",
   "execution_count": null,
   "metadata": {},
   "outputs": [],
   "source": [
    "with sns.axes_style('white'):\n",
    "    g = sns.catplot(\"state_name\",\"rooms\", data=data, aspect=2.8,hue='property_type', order = [\"Capital Federal\",\"Bs.As. G.B.A. Zona Norte\",\n",
    "                                                                                              \"Bs.As. G.B.A. Zona Sur\",\"Córdoba\", \"Bs.As. G.B.A. Zona Oeste\", \"Neuquén\"], kind=\"strip\")\n",
    "    g.set_ylabels('cant')"
   ]
  },
  {
   "cell_type": "code",
   "execution_count": null,
   "metadata": {},
   "outputs": [],
   "source": [
    "df_mask = (df['price_aprox_usd'].notnull()) & (df['rooms'].notnull())\n",
    "sns.jointplot(x=\"price_aprox_usd\", y=\"rooms\", data=df[df_mask])"
   ]
  },
  {
   "cell_type": "code",
   "execution_count": null,
   "metadata": {},
   "outputs": [],
   "source": [
    "dfz = round(df.groupby(['state_name', 'property_type'], as_index=False)['price_aprox_usd'].agg({np.mean, len}, fill_values=0),2)\n",
    "df_grouped = pd.DataFrame(dfz.to_records())\n",
    "df_grouped.columns = ['state_name', 'property_type' , 'quantity', 'price_mean']\n",
    "df_grouped\n",
    "data_type_ph_mask = df_grouped.property_type == \"PH\"\n",
    "data_type_ph = df_grouped.loc[data_type_ph_mask, :]\n",
    "data_type_apartment_mask = df_grouped.property_type == \"apartment\"\n",
    "data_type_apartment = df_grouped.loc[data_type_apartment_mask, :]\n",
    "data_type_house_mask = df_grouped.property_type == \"house\"\n",
    "data_type_house = df_grouped.loc[data_type_house_mask, :]\n",
    "data_type_store_mask = df_grouped.property_type == \"store\"\n",
    "data_type_store = df_grouped.loc[data_type_store_mask, :]\n",
    "data_type_ph\n",
    "g = sns.jointplot(\"price_mean\", \"quantity\", data_type_ph, kind='kde')\n",
    "g = sns.jointplot(\"price_mean\", \"quantity\", data_type_apartment, kind='kde')\n",
    "g = sns.jointplot(\"price_mean\", \"quantity\", data_type_house, kind='kde')\n",
    "g = sns.jointplot(\"price_mean\", \"quantity\", data_type_store, kind='kde')"
   ]
  },
  {
   "cell_type": "code",
   "execution_count": null,
   "metadata": {},
   "outputs": [],
   "source": []
  }
 ],
 "metadata": {
  "kernelspec": {
   "display_name": "Python 3",
   "language": "python",
   "name": "python3"
  },
  "language_info": {
   "codemirror_mode": {
    "name": "ipython",
    "version": 3
   },
   "file_extension": ".py",
   "mimetype": "text/x-python",
   "name": "python",
   "nbconvert_exporter": "python",
   "pygments_lexer": "ipython3",
   "version": "3.7.10"
  }
 },
 "nbformat": 4,
 "nbformat_minor": 4
}
